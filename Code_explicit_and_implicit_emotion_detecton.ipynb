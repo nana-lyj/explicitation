{
  "nbformat": 4,
  "nbformat_minor": 0,
  "metadata": {
    "colab": {
      "provenance": [],
      "toc_visible": true,
      "authorship_tag": "ABX9TyOmAjEFNPQiEGv6/tPEBDZh",
      "include_colab_link": true
    },
    "kernelspec": {
      "name": "python3",
      "display_name": "Python 3"
    },
    "language_info": {
      "name": "python"
    }
  },
  "cells": [
    {
      "cell_type": "markdown",
      "metadata": {
        "id": "view-in-github",
        "colab_type": "text"
      },
      "source": [
        "<a href=\"https://colab.research.google.com/github/nana-lyj/explicitation/blob/main/Code_explicit_and_implicit_emotion_detecton.ipynb\" target=\"_parent\"><img src=\"https://colab.research.google.com/assets/colab-badge.svg\" alt=\"Open In Colab\"/></a>"
      ]
    },
    {
      "cell_type": "code",
      "source": [
        "import csv\n",
        "import re\n",
        "import requests\n",
        "\n",
        "def read_words_dataset(url):\n",
        "    response = requests.get(url)\n",
        "    response.raise_for_status()\n",
        "    words = [word.strip() for word in response.text.splitlines()]\n",
        "    return words\n",
        "\n",
        "def label_sentences(sentences_url, words_url):\n",
        "    words = read_words_dataset(words_url)\n",
        "    word_pattern = re.compile(r'\\b(?:' + '|'.join(words) + r')\\b', re.IGNORECASE)\n",
        "\n",
        "    response = requests.get(sentences_url)\n",
        "    response.raise_for_status()\n",
        "\n",
        "    sentences = response.text.splitlines()\n",
        "\n",
        "    for sentence in sentences:\n",
        "        label = 1 if word_pattern.search(sentence) else 0\n",
        "        print(f\"{sentence}\\t{label}\")\n",
        "\n",
        "sentences_url = 'https://raw.githubusercontent.com/nana-lyj/explicitation/main/data/ST.tsv'\n",
        "words_url = 'https://raw.githubusercontent.com/nana-lyj/explicitation/main/emotion_dictionary/NRC_all.txt'\n",
        "\n",
        "label_sentences(sentences_url, words_url)\n"
      ],
      "metadata": {
        "id": "CIZnkp6r9Ggb"
      },
      "execution_count": null,
      "outputs": []
    },
    {
      "cell_type": "code",
      "source": [
        "pip install jieba\n"
      ],
      "metadata": {
        "colab": {
          "base_uri": "https://localhost:8080/"
        },
        "id": "i5CX6xjWLaov",
        "outputId": "bb21a095-983a-484a-eef0-142cd21a389b"
      },
      "execution_count": 2,
      "outputs": [
        {
          "output_type": "stream",
          "name": "stdout",
          "text": [
            "Requirement already satisfied: jieba in /usr/local/lib/python3.10/dist-packages (0.42.1)\n"
          ]
        }
      ]
    },
    {
      "cell_type": "code",
      "source": [
        "import csv\n",
        "import requests\n",
        "import jieba\n",
        "\n",
        "def read_words_dataset(url):\n",
        "    response = requests.get(url)\n",
        "    response.raise_for_status()\n",
        "    words = {word.strip() for word in response.text.splitlines()}\n",
        "    return words\n",
        "\n",
        "def label_sentences(sentences_url, words_url):\n",
        "    words = read_words_dataset(words_url)\n",
        "\n",
        "    response = requests.get(sentences_url)\n",
        "    response.raise_for_status()\n",
        "\n",
        "    sentences = response.text.splitlines()\n",
        "\n",
        "    for sentence in sentences:\n",
        "        segmented_sentence = jieba.cut(sentence)\n",
        "        label = 1 if any(word in words for word in segmented_sentence) else 0\n",
        "        print(f\"{sentence}\\t{label}\")\n",
        "\n",
        "sentences_url = 'https://raw.githubusercontent.com/nana-lyj/explicitation/main/data/TT.tsv'\n",
        "words_url = 'https://raw.githubusercontent.com/nana-lyj/explicitation/main/emotion_dictionary/NTUSD_all.txt'\n",
        "\n",
        "label_sentences(sentences_url, words_url)\n"
      ],
      "metadata": {
        "id": "iSA1dDrdhMcJ"
      },
      "execution_count": null,
      "outputs": []
    },
    {
      "cell_type": "code",
      "source": [
        "import csv\n",
        "import requests\n",
        "import jieba\n",
        "\n",
        "def read_words_dataset(url):\n",
        "    response = requests.get(url)\n",
        "    response.raise_for_status()\n",
        "    words = {word.strip() for word in response.text.splitlines()}\n",
        "    return words\n",
        "\n",
        "def label_sentences(sentences_url, words_url):\n",
        "    words = read_words_dataset(words_url)\n",
        "\n",
        "    response = requests.get(sentences_url)\n",
        "    response.raise_for_status()\n",
        "\n",
        "    sentences = response.text.splitlines()\n",
        "\n",
        "    for sentence in sentences:\n",
        "        segmented_sentence = jieba.cut(sentence)\n",
        "        label = 1 if any(word in words for word in segmented_sentence) else 0\n",
        "        print(f\"{sentence}\\t{label}\")\n",
        "\n",
        "sentences_url = 'https://raw.githubusercontent.com/nana-lyj/explicitation/main/data/NT.tsv'\n",
        "words_url = 'https://raw.githubusercontent.com/nana-lyj/explicitation/main/emotion_dictionary/NTUSD_all.txt'\n",
        "\n",
        "label_sentences(sentences_url, words_url)\n"
      ],
      "metadata": {
        "id": "qTUFM4-hMCUi"
      },
      "execution_count": null,
      "outputs": []
    }
  ]
}