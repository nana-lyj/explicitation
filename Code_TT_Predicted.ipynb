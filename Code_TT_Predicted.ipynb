{
  "nbformat": 4,
  "nbformat_minor": 0,
  "metadata": {
    "colab": {
      "provenance": [],
      "authorship_tag": "ABX9TyMVEYwCwszWzXciCXEo/AU4",
      "include_colab_link": true
    },
    "kernelspec": {
      "name": "python3",
      "display_name": "Python 3"
    },
    "language_info": {
      "name": "python"
    }
  },
  "cells": [
    {
      "cell_type": "markdown",
      "metadata": {
        "id": "view-in-github",
        "colab_type": "text"
      },
      "source": [
        "<a href=\"https://colab.research.google.com/github/nana-lyj/explicitation/blob/main/Code_TT_Predicted.ipynb\" target=\"_parent\"><img src=\"https://colab.research.google.com/assets/colab-badge.svg\" alt=\"Open In Colab\"/></a>"
      ]
    },
    {
      "cell_type": "code",
      "execution_count": null,
      "metadata": {
        "id": "9JWF9oQFhPBL"
      },
      "outputs": [],
      "source": [
        "#install transformers\n",
        "!pip install transformers"
      ]
    },
    {
      "cell_type": "code",
      "source": [
        "#import packages\n",
        "from transformers import pipeline\n",
        "import numpy as np # linear algebra\n",
        "import pandas as pd # data processing, CSV file I/O (e.g. pd.read_csv)"
      ],
      "metadata": {
        "id": "a3HBXbjLhhnC"
      },
      "execution_count": 2,
      "outputs": []
    },
    {
      "cell_type": "code",
      "source": [
        "# Instantiate a pipeline object with our task and model passed as parameters\n",
        "nlp_emotion = pipeline(task='text-classification',\n",
        "               model='nanaaaa/BilingualChildEmo')"
      ],
      "metadata": {
        "id": "Q2DD_bJghaGj"
      },
      "execution_count": null,
      "outputs": []
    },
    {
      "cell_type": "code",
      "source": [
        "url = \"https://raw.githubusercontent.com/nana-lyj/explicitation/main/data/TT.tsv\"\n",
        "dataset = pd.read_csv(url, sep='\\t', header=None, names=['text'])\n"
      ],
      "metadata": {
        "id": "p98Lj-gklexp"
      },
      "execution_count": 8,
      "outputs": []
    },
    {
      "cell_type": "code",
      "source": [
        "data = [{'text': text} for text in dataset['text']]"
      ],
      "metadata": {
        "id": "rTef9XwBu86a"
      },
      "execution_count": 9,
      "outputs": []
    },
    {
      "cell_type": "code",
      "source": [
        "results = nlp_emotion([sample['text'] for sample in data])"
      ],
      "metadata": {
        "id": "m-Di5BhSvjoU"
      },
      "execution_count": 12,
      "outputs": []
    },
    {
      "cell_type": "code",
      "source": [
        "predicted_labels = [result['label'] for result in results]\n",
        "dataset['predicted_label'] = predicted_labels"
      ],
      "metadata": {
        "id": "SwBAD1ibvnKl"
      },
      "execution_count": 13,
      "outputs": []
    },
    {
      "cell_type": "code",
      "source": [
        "print(dataset)\n"
      ],
      "metadata": {
        "id": "RwG5Eh00vssm"
      },
      "execution_count": null,
      "outputs": []
    },
    {
      "cell_type": "code",
      "source": [
        "for index, row in dataset.iterrows():\n",
        "    print(f'\"{row[\"text\"]}\" {row[\"predicted_label\"]}')"
      ],
      "metadata": {
        "id": "EPzFp4ba2rsg"
      },
      "execution_count": null,
      "outputs": []
    }
  ]
}